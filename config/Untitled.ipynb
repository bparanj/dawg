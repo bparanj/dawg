{
 "cells": [
  {
   "cell_type": "code",
   "execution_count": 1,
   "id": "c3d9107e-e010-479d-952b-64f21c8f41e5",
   "metadata": {},
   "outputs": [
    {
     "data": {
      "text/plain": [
       "0"
      ]
     },
     "execution_count": 1,
     "metadata": {},
     "output_type": "execute_result"
    }
   ],
   "source": [
    "Dir.chdir(\"/home/ubuntu/work/dawg\")"
   ]
  },
  {
   "cell_type": "code",
   "execution_count": 3,
   "id": "14733f6a-1703-4f84-b982-5c6e1a02dc55",
   "metadata": {},
   "outputs": [
    {
     "name": "stdout",
     "output_type": "stream",
     "text": [
      "Fetching gem metadata from https://rubygems.org/...........\n",
      "Resolving dependencies...\n",
      "-- create_table(:tenants, {:force=>true})\n",
      "   -> 0.0011s\n",
      "-- create_table(:comments, {:force=>true})\n",
      "   -> 0.0004s\n"
     ]
    },
    {
     "data": {
      "text/plain": [
       ":test_assoc"
      ]
     },
     "execution_count": 3,
     "metadata": {},
     "output_type": "execute_result"
    }
   ],
   "source": [
    "# frozen_string_literal: true\n",
    "\n",
    "require \"bundler/inline\"\n",
    "\n",
    "gemfile(true) do\n",
    "  source \"https://rubygems.org\"\n",
    "\n",
    "  git_source(:github) { |repo| \"https://github.com/#{repo}.git\" }\n",
    "\n",
    "  gem \"rails\", \"7.1.2\"\n",
    "  gem \"sqlite3\"\n",
    "  gem 'pry'\n",
    "end\n",
    "\n",
    "require \"active_record\"\n",
    "require \"logger\"\n",
    "require \"minitest/autorun\"\n",
    "require 'pry'\n",
    "\n",
    "ActiveRecord::Base.establish_connection(adapter: 'sqlite3', database: ':memory:')\n",
    "\n",
    "ActiveRecord::Schema.define do\n",
    "  create_table :tenants, force: true do |t|\n",
    "  end\n",
    "\n",
    "  create_table :comments, force: true do |t|\n",
    "    t.integer :tenant_id\n",
    "    t.integer :author_id\n",
    "  end\n",
    "\n",
    "end\n",
    "\n",
    "class Tenant < ActiveRecord::Base\n",
    "end\n",
    "\n",
    "\n",
    "class Comment < ActiveRecord::Base\n",
    "  query_constraints :tenant_id, :id\n",
    "\n",
    "  belongs_to :tenant\n",
    "end\n",
    "\n",
    "class BugTest < Minitest::Test\n",
    "  def test_assoc\n",
    "    tenant = Tenant.create!\n",
    "    comment = Comment.new(tenant: tenant)\n",
    "\n",
    "    assert_equal tenant, comment.tenant\n",
    "    assert_equal tenant.id, comment.tenant_id\n",
    "  end\n",
    "end"
   ]
  },
  {
   "cell_type": "code",
   "execution_count": null,
   "id": "3f7512a3-6fe6-46d8-a2bd-852ec1f29392",
   "metadata": {},
   "outputs": [],
   "source": []
  }
 ],
 "metadata": {
  "kernelspec": {
   "display_name": "Ruby 3.3.0",
   "language": "ruby",
   "name": "ruby"
  },
  "language_info": {
   "file_extension": ".rb",
   "mimetype": "application/x-ruby",
   "name": "ruby",
   "version": "3.3.0"
  }
 },
 "nbformat": 4,
 "nbformat_minor": 5
}
